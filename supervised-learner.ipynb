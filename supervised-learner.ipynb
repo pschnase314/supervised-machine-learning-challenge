{
 "cells": [
  {
   "cell_type": "code",
   "execution_count": 106,
   "id": "3a2ccf25",
   "metadata": {},
   "outputs": [],
   "source": [
    "#import dependencies\n",
    "import numpy as np\n",
    "import pandas as pd\n",
    "from pathlib import Path\n",
    "from sklearn.model_selection import train_test_split\n",
    "from sklearn.linear_model import LogisticRegression\n",
    "from sklearn.ensemble import RandomForestClassifier\n",
    "from sklearn.metrics import confusion_matrix"
   ]
  },
  {
   "cell_type": "code",
   "execution_count": 107,
   "id": "095369df",
   "metadata": {},
   "outputs": [
    {
     "data": {
      "text/html": [
       "<div>\n",
       "<style scoped>\n",
       "    .dataframe tbody tr th:only-of-type {\n",
       "        vertical-align: middle;\n",
       "    }\n",
       "\n",
       "    .dataframe tbody tr th {\n",
       "        vertical-align: top;\n",
       "    }\n",
       "\n",
       "    .dataframe thead th {\n",
       "        text-align: right;\n",
       "    }\n",
       "</style>\n",
       "<table border=\"1\" class=\"dataframe\">\n",
       "  <thead>\n",
       "    <tr style=\"text-align: right;\">\n",
       "      <th></th>\n",
       "      <th>loan_size</th>\n",
       "      <th>interest_rate</th>\n",
       "      <th>borrower_income</th>\n",
       "      <th>debt_to_income</th>\n",
       "      <th>num_of_accounts</th>\n",
       "      <th>derogatory_marks</th>\n",
       "      <th>total_debt</th>\n",
       "      <th>loan_status</th>\n",
       "    </tr>\n",
       "  </thead>\n",
       "  <tbody>\n",
       "    <tr>\n",
       "      <th>0</th>\n",
       "      <td>10700.0</td>\n",
       "      <td>7.672</td>\n",
       "      <td>52800</td>\n",
       "      <td>0.431818</td>\n",
       "      <td>5</td>\n",
       "      <td>1</td>\n",
       "      <td>22800</td>\n",
       "      <td>0</td>\n",
       "    </tr>\n",
       "    <tr>\n",
       "      <th>1</th>\n",
       "      <td>8400.0</td>\n",
       "      <td>6.692</td>\n",
       "      <td>43600</td>\n",
       "      <td>0.311927</td>\n",
       "      <td>3</td>\n",
       "      <td>0</td>\n",
       "      <td>13600</td>\n",
       "      <td>0</td>\n",
       "    </tr>\n",
       "    <tr>\n",
       "      <th>2</th>\n",
       "      <td>9000.0</td>\n",
       "      <td>6.963</td>\n",
       "      <td>46100</td>\n",
       "      <td>0.349241</td>\n",
       "      <td>3</td>\n",
       "      <td>0</td>\n",
       "      <td>16100</td>\n",
       "      <td>0</td>\n",
       "    </tr>\n",
       "    <tr>\n",
       "      <th>3</th>\n",
       "      <td>10700.0</td>\n",
       "      <td>7.664</td>\n",
       "      <td>52700</td>\n",
       "      <td>0.430740</td>\n",
       "      <td>5</td>\n",
       "      <td>1</td>\n",
       "      <td>22700</td>\n",
       "      <td>0</td>\n",
       "    </tr>\n",
       "    <tr>\n",
       "      <th>4</th>\n",
       "      <td>10800.0</td>\n",
       "      <td>7.698</td>\n",
       "      <td>53000</td>\n",
       "      <td>0.433962</td>\n",
       "      <td>5</td>\n",
       "      <td>1</td>\n",
       "      <td>23000</td>\n",
       "      <td>0</td>\n",
       "    </tr>\n",
       "    <tr>\n",
       "      <th>...</th>\n",
       "      <td>...</td>\n",
       "      <td>...</td>\n",
       "      <td>...</td>\n",
       "      <td>...</td>\n",
       "      <td>...</td>\n",
       "      <td>...</td>\n",
       "      <td>...</td>\n",
       "      <td>...</td>\n",
       "    </tr>\n",
       "    <tr>\n",
       "      <th>77531</th>\n",
       "      <td>19100.0</td>\n",
       "      <td>11.261</td>\n",
       "      <td>86600</td>\n",
       "      <td>0.653580</td>\n",
       "      <td>12</td>\n",
       "      <td>2</td>\n",
       "      <td>56600</td>\n",
       "      <td>1</td>\n",
       "    </tr>\n",
       "    <tr>\n",
       "      <th>77532</th>\n",
       "      <td>17700.0</td>\n",
       "      <td>10.662</td>\n",
       "      <td>80900</td>\n",
       "      <td>0.629172</td>\n",
       "      <td>11</td>\n",
       "      <td>2</td>\n",
       "      <td>50900</td>\n",
       "      <td>1</td>\n",
       "    </tr>\n",
       "    <tr>\n",
       "      <th>77533</th>\n",
       "      <td>17600.0</td>\n",
       "      <td>10.595</td>\n",
       "      <td>80300</td>\n",
       "      <td>0.626401</td>\n",
       "      <td>11</td>\n",
       "      <td>2</td>\n",
       "      <td>50300</td>\n",
       "      <td>1</td>\n",
       "    </tr>\n",
       "    <tr>\n",
       "      <th>77534</th>\n",
       "      <td>16300.0</td>\n",
       "      <td>10.068</td>\n",
       "      <td>75300</td>\n",
       "      <td>0.601594</td>\n",
       "      <td>10</td>\n",
       "      <td>2</td>\n",
       "      <td>45300</td>\n",
       "      <td>1</td>\n",
       "    </tr>\n",
       "    <tr>\n",
       "      <th>77535</th>\n",
       "      <td>15600.0</td>\n",
       "      <td>9.742</td>\n",
       "      <td>72300</td>\n",
       "      <td>0.585062</td>\n",
       "      <td>9</td>\n",
       "      <td>2</td>\n",
       "      <td>42300</td>\n",
       "      <td>1</td>\n",
       "    </tr>\n",
       "  </tbody>\n",
       "</table>\n",
       "<p>77536 rows × 8 columns</p>\n",
       "</div>"
      ],
      "text/plain": [
       "       loan_size  interest_rate  borrower_income  debt_to_income  \\\n",
       "0        10700.0          7.672            52800        0.431818   \n",
       "1         8400.0          6.692            43600        0.311927   \n",
       "2         9000.0          6.963            46100        0.349241   \n",
       "3        10700.0          7.664            52700        0.430740   \n",
       "4        10800.0          7.698            53000        0.433962   \n",
       "...          ...            ...              ...             ...   \n",
       "77531    19100.0         11.261            86600        0.653580   \n",
       "77532    17700.0         10.662            80900        0.629172   \n",
       "77533    17600.0         10.595            80300        0.626401   \n",
       "77534    16300.0         10.068            75300        0.601594   \n",
       "77535    15600.0          9.742            72300        0.585062   \n",
       "\n",
       "       num_of_accounts  derogatory_marks  total_debt  loan_status  \n",
       "0                    5                 1       22800            0  \n",
       "1                    3                 0       13600            0  \n",
       "2                    3                 0       16100            0  \n",
       "3                    5                 1       22700            0  \n",
       "4                    5                 1       23000            0  \n",
       "...                ...               ...         ...          ...  \n",
       "77531               12                 2       56600            1  \n",
       "77532               11                 2       50900            1  \n",
       "77533               11                 2       50300            1  \n",
       "77534               10                 2       45300            1  \n",
       "77535                9                 2       42300            1  \n",
       "\n",
       "[77536 rows x 8 columns]"
      ]
     },
     "execution_count": 107,
     "metadata": {},
     "output_type": "execute_result"
    }
   ],
   "source": [
    "#import data\n",
    "path = \"Resources/lending_data.csv\"\n",
    "df = pd.read_csv(path)\n",
    "df"
   ]
  },
  {
   "cell_type": "code",
   "execution_count": 108,
   "id": "caf90c1e",
   "metadata": {},
   "outputs": [
    {
     "name": "stdout",
     "output_type": "stream",
     "text": [
      "Based on the full dataset, always predicting a loan status of 0 will yield an accuracy of 0.9677569129178704.  To be any good, a model must significantly improve on that.\n"
     ]
    }
   ],
   "source": [
    "#establish a prior for models to improve on\n",
    "print(\"Based on the full dataset, always predicting a loan status of 0 will yield an accuracy of \" + str(1-df[\"loan_status\"].sum()/len(df[\"loan_status\"])) + \".  To be any good, a model must significantly improve on that.\")"
   ]
  },
  {
   "cell_type": "markdown",
   "id": "ee47600e",
   "metadata": {},
   "source": [
    "# Prediction\n",
    "\n",
    "The logistic regression splits the parameter space in half along a flat surface, while the random forest splits the data in a more complicated way. That leads me to believe that the random forest will have a significantly better fit to the training data. I think it will also be more accurate for the testing data, but not to near the extent as with the training data. In other words, I think the random forest will be both more accurate and more overfitted.\n"
   ]
  },
  {
   "cell_type": "code",
   "execution_count": 116,
   "id": "a9f84052",
   "metadata": {},
   "outputs": [],
   "source": [
    "#split the data between independent and dependent variables and training/testing datasets\n",
    "X = df.drop(\"loan_status\",axis=1)\n",
    "y = df[\"loan_status\"]\n",
    "X_train, X_test, y_train, y_test = train_test_split(X,y)"
   ]
  },
  {
   "cell_type": "code",
   "execution_count": 117,
   "id": "193d51dd",
   "metadata": {},
   "outputs": [
    {
     "name": "stdout",
     "output_type": "stream",
     "text": [
      "Accuracy for training data:  0.9916941807676434\n",
      "Accuracy for testing data:  0.9925711927362774\n",
      "Confusion Matrix:\n",
      "[[18676    87]\n",
      " [   57   564]]\n"
     ]
    }
   ],
   "source": [
    "#make the logistic regression model\n",
    "model1 = LogisticRegression()\n",
    "#fit the model\n",
    "model1.fit(X_train,y_train)\n",
    "#evaluate the model\n",
    "print(f\"Accuracy for training data:  {model1.score(X_train,y_train)}\")\n",
    "print(f\"Accuracy for testing data:  {model1.score(X_test,y_test)}\")\n",
    "print(f\"Confusion Matrix:\")\n",
    "print(confusion_matrix(y_test,model1.predict(X_test)))"
   ]
  },
  {
   "cell_type": "code",
   "execution_count": 118,
   "id": "2473fd2c",
   "metadata": {},
   "outputs": [
    {
     "name": "stdout",
     "output_type": "stream",
     "text": [
      "Accuracy for training data:  0.9972485899023249\n",
      "Accuracy for testing data:  0.9923648369789517\n",
      "Confusion Matrix:\n",
      "[[18681    82]\n",
      " [   66   555]]\n"
     ]
    }
   ],
   "source": [
    "#make the random forest model\n",
    "model2 = RandomForestClassifier()\n",
    "#fit the model\n",
    "model2.fit(X_train,y_train)\n",
    "#evaluate the model\n",
    "print(f\"Accuracy for training data:  {model2.score(X_train,y_train)}\")\n",
    "print(f\"Accuracy for testing data:  {model2.score(X_test,y_test)}\")\n",
    "print(f\"Confusion Matrix:\")\n",
    "print(confusion_matrix(y_test,model2.predict(X_test)))"
   ]
  },
  {
   "cell_type": "markdown",
   "id": "ac5d8c75",
   "metadata": {},
   "source": [
    "# Analysis\n",
    "\n",
    "Having tested both the logistic regression and random forest techniques multiple times across different training/testing data splits, the logistic regression usually had slightly better accuracy for the testing data (about 0.99206 vs  0.9918, a difference of about 0.00026).  Also, the random forest generally yielded much higher accuracy for the training data (about 0.9973 vs 0.992, a difference of about 0.0053).  This indicates that the random forest algorithm tended to overfit the training data and not generalize as well to the testing data.  In short, the logistic regression works better for this dataset."
   ]
  },
  {
   "cell_type": "code",
   "execution_count": 91,
   "id": "04c0f323",
   "metadata": {},
   "outputs": [
    {
     "name": "stdout",
     "output_type": "stream",
     "text": [
      "Average logistic regression training accuracy: 0.9920011349566653\n",
      "Average logistic regression testing accuracy: 0.9920625257944695\n",
      "Average random forest training accuracy: 0.9973354312835331\n",
      "Average random forest testing accuracy: 0.9918004539826661\n"
     ]
    }
   ],
   "source": [
    "#Warning:  this cell took 4-5 minutes to run on a pretty fast computer and is not required for the challenge\n",
    "#this cell splits the data then fits and evaluates both models 100 times\n",
    "#it then averages the accuracies of each model across the 100 iterations\n",
    "#this is where I got the numbers I quoted in the analysis, which matched my observations running the above cells a few dozen times\n",
    "log_train_acc = []\n",
    "log_test_acc = []\n",
    "for_train_acc = []\n",
    "for_test_acc = []\n",
    "for i in range(100):\n",
    "    X_train, X_test, y_train, y_test = train_test_split(X,y)\n",
    "    model1 = LogisticRegression()\n",
    "    model1.fit(X_train,y_train)\n",
    "    model2 = RandomForestClassifier()\n",
    "    model2.fit(X_train,y_train)\n",
    "    log_train_acc.append(model1.score(X_train,y_train))\n",
    "    log_test_acc.append(model1.score(X_test,y_test))\n",
    "    for_train_acc.append(model2.score(X_train,y_train))\n",
    "    for_test_acc.append(model2.score(X_test,y_test))\n",
    "print(f\"Average logistic regression training accuracy: {np.mean(log_train_acc)}\")\n",
    "print(f\"Average logistic regression testing accuracy: {np.mean(log_test_acc)}\")\n",
    "print(f\"Average random forest training accuracy: {np.mean(for_train_acc)}\")\n",
    "print(f\"Average random forest testing accuracy: {np.mean(for_test_acc)}\")"
   ]
  },
  {
   "cell_type": "code",
   "execution_count": null,
   "id": "1b02d8fd",
   "metadata": {},
   "outputs": [],
   "source": []
  }
 ],
 "metadata": {
  "kernelspec": {
   "display_name": "PythonData",
   "language": "python",
   "name": "pythondata"
  },
  "language_info": {
   "codemirror_mode": {
    "name": "ipython",
    "version": 3
   },
   "file_extension": ".py",
   "mimetype": "text/x-python",
   "name": "python",
   "nbconvert_exporter": "python",
   "pygments_lexer": "ipython3",
   "version": "3.7.13"
  }
 },
 "nbformat": 4,
 "nbformat_minor": 5
}
